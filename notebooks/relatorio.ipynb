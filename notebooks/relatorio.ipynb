{
 "cells": [
  {
   "cell_type": "markdown",
   "metadata": {},
   "source": [
    "# Projeto 1 - Ciência dos Dados"
   ]
  },
  {
   "cell_type": "markdown",
   "metadata": {},
   "source": [
    "Nome: Lucas Levi Vaz\n",
    "\n",
    "Nome: Rodrigo Lee"
   ]
  },
  {
   "cell_type": "markdown",
   "metadata": {},
   "source": [
    "Atenção: Serão permitidos grupos de três pessoas, mas com uma rubrica mais exigente. Grupos deste tamanho precisarão fazer um questionário de avaliação de trabalho em equipe"
   ]
  },
  {
   "cell_type": "markdown",
   "metadata": {},
   "source": [
    "___\n",
    "Carregando algumas bibliotecas:"
   ]
  },
  {
   "cell_type": "code",
   "execution_count": 73,
   "metadata": {},
   "outputs": [],
   "source": [
    "%matplotlib inline\n",
    "import pandas as pd\n",
    "import matplotlib.pyplot as plt\n",
    "import numpy as np\n",
    "import os\n",
    "from sklearn.metrics import confusion_matrix\n",
    "import seaborn as sns\n",
    "from sklearn import svm"
   ]
  },
  {
   "cell_type": "code",
   "execution_count": 74,
   "metadata": {
    "scrolled": false
   },
   "outputs": [
    {
     "name": "stdout",
     "output_type": "stream",
     "text": [
      "Esperamos trabalhar no diretório\n",
      "v:\\Documents\\Github\\22-2a-cd-p1-grupo_rodrigol5\\notebooks\n"
     ]
    }
   ],
   "source": [
    "print('Esperamos trabalhar no diretório')\n",
    "print(os.getcwd())"
   ]
  },
  {
   "cell_type": "markdown",
   "metadata": {},
   "source": [
    "Carregando a base de dados com as notícias classificadas manualmente:"
   ]
  },
  {
   "cell_type": "code",
   "execution_count": 75,
   "metadata": {},
   "outputs": [],
   "source": [
    "filename = '../data/dados.xlsx'"
   ]
  },
  {
   "cell_type": "code",
   "execution_count": 76,
   "metadata": {},
   "outputs": [
    {
     "data": {
      "text/html": [
       "<div>\n",
       "<style scoped>\n",
       "    .dataframe tbody tr th:only-of-type {\n",
       "        vertical-align: middle;\n",
       "    }\n",
       "\n",
       "    .dataframe tbody tr th {\n",
       "        vertical-align: top;\n",
       "    }\n",
       "\n",
       "    .dataframe thead th {\n",
       "        text-align: right;\n",
       "    }\n",
       "</style>\n",
       "<table border=\"1\" class=\"dataframe\">\n",
       "  <thead>\n",
       "    <tr style=\"text-align: right;\">\n",
       "      <th></th>\n",
       "      <th>Categoria</th>\n",
       "      <th>Titulo</th>\n",
       "      <th>PrimeiroParag</th>\n",
       "      <th>Data</th>\n",
       "      <th>Pagina</th>\n",
       "      <th>Target</th>\n",
       "    </tr>\n",
       "  </thead>\n",
       "  <tbody>\n",
       "    <tr>\n",
       "      <th>0</th>\n",
       "      <td>Comprar ou vender?</td>\n",
       "      <td>Com commodities caindo, correr para as small c...</td>\n",
       "      <td>A piora do cenário macro global levou a uma qu...</td>\n",
       "      <td>02/08/2022 - 17:52</td>\n",
       "      <td>36</td>\n",
       "      <td>0</td>\n",
       "    </tr>\n",
       "    <tr>\n",
       "      <th>1</th>\n",
       "      <td>Bula do Mercado</td>\n",
       "      <td>Ibovespa hoje: Marasmo no exterior e agenda va...</td>\n",
       "      <td>O Ibovespa pode receber influência do sinal ne...</td>\n",
       "      <td>19/08/2022 - 8:07</td>\n",
       "      <td>22</td>\n",
       "      <td>0</td>\n",
       "    </tr>\n",
       "    <tr>\n",
       "      <th>2</th>\n",
       "      <td>Fusões &amp; Aquisições</td>\n",
       "      <td>Prisma Capital se torna titular de 56% da Domm...</td>\n",
       "      <td>A Dommo Energia (DMMO3), antiga OGX de Eike Ba...</td>\n",
       "      <td>06/09/2022 - 8:07</td>\n",
       "      <td>4</td>\n",
       "      <td>0</td>\n",
       "    </tr>\n",
       "    <tr>\n",
       "      <th>3</th>\n",
       "      <td>Combustíveis</td>\n",
       "      <td>Bolsonaro diz que diesel importado da Rússia p...</td>\n",
       "      <td>O presidente Jair Bolsonaro afirmou, nesta seg...</td>\n",
       "      <td>11/07/2022 - 11:45</td>\n",
       "      <td>67</td>\n",
       "      <td>1</td>\n",
       "    </tr>\n",
       "    <tr>\n",
       "      <th>4</th>\n",
       "      <td>Mercados</td>\n",
       "      <td>Petrobras (PETR4) salta 3% com reinvestimento ...</td>\n",
       "      <td>A Petrobras (PETR3; PETR4) fechou o último pre...</td>\n",
       "      <td>31/08/2022 - 17:25</td>\n",
       "      <td>9</td>\n",
       "      <td>2</td>\n",
       "    </tr>\n",
       "  </tbody>\n",
       "</table>\n",
       "</div>"
      ],
      "text/plain": [
       "              Categoria                                             Titulo  \\\n",
       "0   Comprar ou vender?   Com commodities caindo, correr para as small c...   \n",
       "1      Bula do Mercado   Ibovespa hoje: Marasmo no exterior e agenda va...   \n",
       "2  Fusões & Aquisições   Prisma Capital se torna titular de 56% da Domm...   \n",
       "3         Combustíveis   Bolsonaro diz que diesel importado da Rússia p...   \n",
       "4             Mercados   Petrobras (PETR4) salta 3% com reinvestimento ...   \n",
       "\n",
       "                                       PrimeiroParag                Data  \\\n",
       "0  A piora do cenário macro global levou a uma qu...  02/08/2022 - 17:52   \n",
       "1  O Ibovespa pode receber influência do sinal ne...   19/08/2022 - 8:07   \n",
       "2  A Dommo Energia (DMMO3), antiga OGX de Eike Ba...   06/09/2022 - 8:07   \n",
       "3  O presidente Jair Bolsonaro afirmou, nesta seg...  11/07/2022 - 11:45   \n",
       "4  A Petrobras (PETR3; PETR4) fechou o último pre...  31/08/2022 - 17:25   \n",
       "\n",
       "   Pagina  Target  \n",
       "0      36       0  \n",
       "1      22       0  \n",
       "2       4       0  \n",
       "3      67       1  \n",
       "4       9       2  "
      ]
     },
     "execution_count": 76,
     "metadata": {},
     "output_type": "execute_result"
    }
   ],
   "source": [
    "train = pd.read_excel(filename, sheet_name = 'Treinamento')\n",
    "train.head(5)"
   ]
  },
  {
   "cell_type": "code",
   "execution_count": 77,
   "metadata": {},
   "outputs": [
    {
     "data": {
      "text/html": [
       "<div>\n",
       "<style scoped>\n",
       "    .dataframe tbody tr th:only-of-type {\n",
       "        vertical-align: middle;\n",
       "    }\n",
       "\n",
       "    .dataframe tbody tr th {\n",
       "        vertical-align: top;\n",
       "    }\n",
       "\n",
       "    .dataframe thead th {\n",
       "        text-align: right;\n",
       "    }\n",
       "</style>\n",
       "<table border=\"1\" class=\"dataframe\">\n",
       "  <thead>\n",
       "    <tr style=\"text-align: right;\">\n",
       "      <th></th>\n",
       "      <th>Categoria</th>\n",
       "      <th>Titulo</th>\n",
       "      <th>PrimeiroParag</th>\n",
       "      <th>Data</th>\n",
       "      <th>Pagina</th>\n",
       "      <th>Target</th>\n",
       "    </tr>\n",
       "  </thead>\n",
       "  <tbody>\n",
       "    <tr>\n",
       "      <th>0</th>\n",
       "      <td>MT Labs</td>\n",
       "      <td>Não é Petrobras: esta petrolífera pode valoriz...</td>\n",
       "      <td>Ao abrir um site de notícias sobre economia, é...</td>\n",
       "      <td>18/07/2022 - 12:00</td>\n",
       "      <td>56</td>\n",
       "      <td>2</td>\n",
       "    </tr>\n",
       "    <tr>\n",
       "      <th>1</th>\n",
       "      <td>Economia</td>\n",
       "      <td>Preço do diesel sobe mais de 60%, aponta IPCA-15</td>\n",
       "      <td>No acumulado dos últimos 12 meses, o preço do ...</td>\n",
       "      <td>26/07/2022 - 10:34</td>\n",
       "      <td>46</td>\n",
       "      <td>2</td>\n",
       "    </tr>\n",
       "    <tr>\n",
       "      <th>2</th>\n",
       "      <td>Zona do Euro</td>\n",
       "      <td>Congelamento de preços na França prova que a E...</td>\n",
       "      <td>Ontem, o Carrefour anunciou que vai congelar o...</td>\n",
       "      <td>23/08/2022 - 16:28</td>\n",
       "      <td>19</td>\n",
       "      <td>0</td>\n",
       "    </tr>\n",
       "    <tr>\n",
       "      <th>3</th>\n",
       "      <td>Europa</td>\n",
       "      <td>Índice europeu STOXX 600 recua pressionado por...</td>\n",
       "      <td>O índice STOXX 600 fechou em baixa nesta quart...</td>\n",
       "      <td>07/09/2022 - 14:16</td>\n",
       "      <td>2</td>\n",
       "      <td>0</td>\n",
       "    </tr>\n",
       "    <tr>\n",
       "      <th>4</th>\n",
       "      <td>Moedas</td>\n",
       "      <td>Nervosismo externo faz dólar subir para R$ 5,37</td>\n",
       "      <td>A trégua no mercado financeiro durou pouco. Ap...</td>\n",
       "      <td>11/07/2022 - 19:35</td>\n",
       "      <td>66</td>\n",
       "      <td>0</td>\n",
       "    </tr>\n",
       "  </tbody>\n",
       "</table>\n",
       "</div>"
      ],
      "text/plain": [
       "       Categoria                                             Titulo  \\\n",
       "0        MT Labs  Não é Petrobras: esta petrolífera pode valoriz...   \n",
       "1      Economia    Preço do diesel sobe mais de 60%, aponta IPCA-15   \n",
       "2  Zona do Euro   Congelamento de preços na França prova que a E...   \n",
       "3        Europa   Índice europeu STOXX 600 recua pressionado por...   \n",
       "4        Moedas     Nervosismo externo faz dólar subir para R$ 5,37   \n",
       "\n",
       "                                       PrimeiroParag                Data  \\\n",
       "0  Ao abrir um site de notícias sobre economia, é...  18/07/2022 - 12:00   \n",
       "1  No acumulado dos últimos 12 meses, o preço do ...  26/07/2022 - 10:34   \n",
       "2  Ontem, o Carrefour anunciou que vai congelar o...  23/08/2022 - 16:28   \n",
       "3  O índice STOXX 600 fechou em baixa nesta quart...  07/09/2022 - 14:16   \n",
       "4  A trégua no mercado financeiro durou pouco. Ap...  11/07/2022 - 19:35   \n",
       "\n",
       "   Pagina  Target  \n",
       "0      56       2  \n",
       "1      46       2  \n",
       "2      19       0  \n",
       "3       2       0  \n",
       "4      66       0  "
      ]
     },
     "execution_count": 77,
     "metadata": {},
     "output_type": "execute_result"
    }
   ],
   "source": [
    "test = pd.read_excel(filename, sheet_name = 'Teste')\n",
    "test.head(5)"
   ]
  },
  {
   "cell_type": "markdown",
   "metadata": {},
   "source": [
    "___\n",
    "## Classificador automático\n"
   ]
  },
  {
   "cell_type": "markdown",
   "metadata": {},
   "source": [
    "Faça aqui uma descrição do seu assunto e o que considerou como relevante ou não relevante na classificação das notícias (Target).\n",
    "\n",
    "0 - irrelevante,\n",
    "<br>1 - relevante,\n",
    "<br>2 - muito relevante.\n",
    "\n",
    "É classificado a partir desses targets, se mereçem destaque, ou possam ajudar investidores em petróleo."
   ]
  },
  {
   "cell_type": "markdown",
   "metadata": {},
   "source": [
    "___\n",
    "### Montando um Classificador Naive-Bayes\n",
    "\n",
    "Considerando apenas as mensagens da planilha Treinamento, ensine  seu classificador."
   ]
  },
  {
   "cell_type": "code",
   "execution_count": 78,
   "metadata": {},
   "outputs": [],
   "source": [
    "import re \n",
    "\n",
    "\n",
    "def cleanup(text):\n",
    "\n",
    "    punctuation = '[!-.:?;]'\n",
    "    pattern = re.compile(punctuation)\n",
    "    text_subbed = re.sub(pattern, '', text)\n",
    "    return text_subbed\n",
    "    "
   ]
  },
  {
   "cell_type": "code",
   "execution_count": 79,
   "metadata": {},
   "outputs": [],
   "source": [
    "todas_palavras = []\n",
    "palavras0 = []\n",
    "palavras1 = []\n",
    "palavras2 = []\n",
    "\n",
    "i = 0\n",
    "while i < len(train):\n",
    "    linha = cleanup(str(train['PrimeiroParag'][i]).lower())\n",
    "    linha_split = linha.split()\n",
    "    x = train.iloc[i]['Target']\n",
    "    \n",
    "    for palavra in linha_split:\n",
    "        todas_palavras.append(palavra)\n",
    "        if x == 0:\n",
    "            palavras0.append(palavra)\n",
    "        if x == 1:\n",
    "            palavras1.append(palavra)\n",
    "        if x == 2:\n",
    "            palavras2.append(palavra)\n",
    "\n",
    "    i+=1"
   ]
  },
  {
   "cell_type": "code",
   "execution_count": 80,
   "metadata": {},
   "outputs": [],
   "source": [
    "tabela_todas_palavras = pd.Series(todas_palavras)\n",
    "tabela_todas_palavras_absoluta = tabela_todas_palavras.value_counts()\n",
    "qnt_total = len(tabela_todas_palavras_absoluta)\n",
    "\n",
    "tabela_palavras0 = pd.Series(palavras0)\n",
    "tabela_palavras_absoluta0 = tabela_palavras0.value_counts()\n",
    "qnt0 = len(palavras0)\n",
    "P_0 = qnt0/qnt_total\n",
    "\n",
    "tabela_palavras1 = pd.Series(palavras1)\n",
    "tabela_palavras_absoluta1 = tabela_palavras1.value_counts()\n",
    "qnt1 = len(palavras1)\n",
    "P_1 = qnt1/qnt_total\n",
    "\n",
    "tabela_palavras2 = pd.Series(palavras2)\n",
    "tabela_palavras_absoluta2 = tabela_palavras2.value_counts()\n",
    "qnt2 = len(palavras2)\n",
    "P_2 = qnt2/qnt_total"
   ]
  },
  {
   "cell_type": "markdown",
   "metadata": {},
   "source": [
    "___\n",
    "### Verificando a performance do Classificador\n",
    "\n",
    "Agora você deve testar o seu classificador com a base de Testes."
   ]
  },
  {
   "cell_type": "code",
   "execution_count": 81,
   "metadata": {},
   "outputs": [],
   "source": [
    "lista_prob = []\n",
    "lista_target = []\n",
    "\n",
    "i = 0\n",
    "while i < len(test):\n",
    "    linha = cleanup(str(test['PrimeiroParag'][i]).lower())\n",
    "    linha_split = linha.split()\n",
    "    x = test.iloc[i]['Target']\n",
    "    \n",
    "    P_palavra_dado_0 = 1\n",
    "    P_palavra_dado_1 = 1\n",
    "    P_palavra_dado_2 = 1\n",
    "\n",
    "    P_0_dado_frase = 1\n",
    "    P_1_dado_frase = 1\n",
    "    P_2_dado_frase = 1\n",
    "\n",
    "\n",
    "    #Calcula a probabilidade da palavra estar em um target\n",
    "    for palavra in linha_split:\n",
    "        if palavra in tabela_palavras_absoluta0:\n",
    "            P_palavra_dado_0 *= (1 + tabela_palavras_absoluta0[palavra])/(qnt0 + qnt_total)\n",
    "        else:\n",
    "            P_palavra_dado_0 = 1/(qnt0 + qnt_total)\n",
    "        \n",
    "        if palavra in tabela_palavras_absoluta1:\n",
    "            P_palavra_dado_1 *= (1 + tabela_palavras_absoluta1[palavra])/(qnt1 + qnt_total)\n",
    "        else:\n",
    "            P_palavra_dado_1 = 1/(qnt1 + qnt_total)\n",
    "        \n",
    "        if palavra in tabela_palavras_absoluta2:\n",
    "            P_palavra_dado_2 *= (1 + tabela_palavras_absoluta2[palavra])/(qnt2 + qnt_total)\n",
    "        else:\n",
    "            P_palavra_dado_2 = 1/(qnt2 + qnt_total)\n",
    "\n",
    "        P_0_dado_palavra = P_palavra_dado_0 * P_0\n",
    "        P_1_dado_palavra = P_palavra_dado_1 * P_1\n",
    "        P_2_dado_palavra = P_palavra_dado_2 * P_2\n",
    "\n",
    "\n",
    "        #Calcula a probabilidade da frase inteira estar em um target\n",
    "        if P_0_dado_palavra >= P_1_dado_palavra and P_0_dado_palavra >= P_2_dado_palavra:\n",
    "            P_0_dado_frase *= P_0_dado_palavra\n",
    "\n",
    "        if P_1_dado_palavra >= P_0_dado_palavra and P_1_dado_palavra >= P_2_dado_palavra:\n",
    "            P_1_dado_frase *= P_1_dado_palavra\n",
    "\n",
    "        if P_2_dado_palavra >= P_1_dado_palavra and P_2_dado_palavra >= P_0_dado_palavra:\n",
    "            P_2_dado_frase *= P_2_dado_palavra\n",
    "\n",
    "\n",
    "\n",
    "    #Verifica a qual target a frase inteira pertence e add ifo nas listas\n",
    "    if P_0_dado_frase >= P_1_dado_frase and P_0_dado_frase >= P_2_dado_frase:\n",
    "        lista_target.append(0)\n",
    "        lista_prob.append(P_0_dado_frase)\n",
    "\n",
    "    elif P_2_dado_frase >= P_1_dado_frase and P_2_dado_frase >= P_0_dado_frase:\n",
    "        lista_target.append(2)\n",
    "        lista_prob.append(P_2_dado_frase)\n",
    "\n",
    "    elif P_1_dado_frase >= P_0_dado_frase and P_1_dado_frase >= P_2_dado_frase:\n",
    "        lista_target.append(1)\n",
    "        lista_prob.append(P_1_dado_frase)\n",
    "\n",
    "        \n",
    "    i+=1\n"
   ]
  },
  {
   "cell_type": "code",
   "execution_count": 82,
   "metadata": {},
   "outputs": [
    {
     "name": "stdout",
     "output_type": "stream",
     "text": [
      "300\n",
      "300\n"
     ]
    }
   ],
   "source": [
    "print(len(lista_prob))\n",
    "print(len(lista_target))"
   ]
  },
  {
   "cell_type": "code",
   "execution_count": 83,
   "metadata": {},
   "outputs": [
    {
     "name": "stdout",
     "output_type": "stream",
     "text": [
      "[[48 83 52]\n",
      " [10 30 13]\n",
      " [ 9 43 12]]\n",
      "0.3\n"
     ]
    }
   ],
   "source": [
    "matriz_confusao = confusion_matrix(test['Target'],lista_target)\n",
    "\n",
    "true0_predict0 = matriz_confusao[0][0]\n",
    "true0_predict1 = matriz_confusao[0][1]\n",
    "true0_predict2 = matriz_confusao[0][2]\n",
    "\n",
    "true1_predict0 = matriz_confusao[1][0]\n",
    "true1_predict1 = matriz_confusao[1][1]\n",
    "true1_predict2 = matriz_confusao[1][2]\n",
    "\n",
    "true2_predict0 = matriz_confusao[2][0]\n",
    "true2_predict1 = matriz_confusao[2][1]\n",
    "true2_predict2 = matriz_confusao[2][2]\n",
    "\n",
    "print(matriz_confusao)\n",
    "\n",
    "Acuracia = (true0_predict0 + true1_predict1 + true2_predict2) / (true0_predict0+true0_predict1+true0_predict2+true1_predict0+true1_predict1+true1_predict2+true2_predict0+true2_predict1+true2_predict2)\n",
    "\n",
    "print(Acuracia)"
   ]
  },
  {
   "cell_type": "code",
   "execution_count": 84,
   "metadata": {},
   "outputs": [
    {
     "data": {
      "image/png": "[encoded data removed]",
      "text/plain": [
       "<Figure size 432x288 with 2 Axes>"
      ]
     },
     "metadata": {
      "needs_background": "light"
     },
     "output_type": "display_data"
    }
   ],
   "source": [
    "#Criar matriz de confusão\n",
    "\n",
    "group_names = ['true0_predict0', 'true0_predict1', 'true0_predict2', 'true1_predict0', 'true1_predict1', 'true1_predict2', 'true2_predict0', 'true2_predict1', 'true2_predict2']\n",
    "group_counts = [true0_predict0, true0_predict1, true0_predict2, true1_predict0, true1_predict1, true1_predict2, true2_predict0, true2_predict1, true2_predict2]\n",
    "\n",
    "group_percentages = []\n",
    "for i in group_counts:\n",
    "    group_percentages.append(round((i/len(todas_palavras))*100,2))\n",
    "\n",
    "labels = [f'{v1}\\n{v2}\\n{v3}' for v1, v2, v3 in zip(group_names,group_counts,group_percentages)]\n",
    "labels = np.asarray(labels).reshape(3,3)\n",
    "\n",
    "#Cria um heatmap\n",
    "sns.heatmap(matriz_confusao, annot=labels, fmt='', cmap='Blues')\n",
    "plt.show()"
   ]
  },
  {
   "cell_type": "markdown",
   "metadata": {},
   "source": [
    "___\n",
    "### Concluindo"
   ]
  },
  {
   "cell_type": "markdown",
   "metadata": {},
   "source": [
    "Mensagems sarcásticas:\n",
    "Por se tratar de um site de notícias financeiro, não é esperado tantas notícias sarcástiscas. Portanto não foi necessário surgir com algum modo para tratá-las.\n",
    "\n",
    "Mensagems de dupla negação:\n",
    "Não temos o ferramentário para tratar de mensagems com dupla negação, pois usamos as probabilidades e porcentagems de palavras estarem presente, e não analisamos totalmente o contexto dessas mesmas palavras."
   ]
  },
  {
   "cell_type": "markdown",
   "metadata": {},
   "source": [
    "Pois com mais investimentos, maior será a acurácia do classificador, já que poderímos estar trabalhando com uma base de dados maior, targets mais específicas, diferentes combinações de contagens etc. Visto que o nosso assunto é \"petróleo\", o produto gerado pelo classificador pode ter grande relevância para investidores de ações petroleiras, por exemplo. Além disso, com um classificador mais eficaz, poderíamos fazer uma expansão para temas mias impactantes."
   ]
  },
  {
   "cell_type": "markdown",
   "metadata": {},
   "source": [
    "Se alimentássemos a base de treinamento com novas notícias, utilizando o classificador que é dependente dessa mesma base, isso resultaria\n",
    "em uma referência circular no qual as novas notícias seriam selecionadas baseado nos Targets já definidos. \n",
    "Portanto, o classificador estaria treinando a base de dados a partir de si mesma. Não estaria sendo treinada, apenas se repetindo."
   ]
  },
  {
   "cell_type": "markdown",
   "metadata": {},
   "source": [
    "___\n",
    "### Qualidade do Classificador a partir de novas separações das notícias entre Treinamento e Teste\n",
    "\n",
    "Caso for fazer esse item do Projeto"
   ]
  },
  {
   "cell_type": "code",
   "execution_count": 71,
   "metadata": {},
   "outputs": [
    {
     "name": "stdout",
     "output_type": "stream",
     "text": [
      "[[112, 12, 19], [144, 7, 6], [139, 12, 12], [133, 9, 22], [130, 12, 12], [136, 11, 18], [138, 8, 7], [131, 10, 15], [137, 15, 23], [127, 11, 16], [121, 7, 13], [128, 11, 17], [118, 8, 20], [127, 12, 14], [129, 9, 17], [141, 11, 12], [159, 11, 9], [119, 14, 13], [135, 11, 14], [120, 11, 11]]\n",
      "(29.15555555555556, 2.3555555555555556, 3.2222222222222223)\n",
      "[]\n"
     ]
    }
   ],
   "source": [
    "guarda_resultados = []\n",
    "historico_acertos = []\n",
    "porcentagem_irrelevantes = []\n",
    "porcentagem_relevantes = []\n",
    "porcentagem_m_relevantes = []\n",
    "\n",
    "contador = 0\n",
    "#Roda 100 vezes para testar a qualidade do classificador a partir de novas separações de notícias\n",
    "while contador < 100:\n",
    "    train = pd.read_excel(filename, sheet_name = 'Treinamento')\n",
    "    test = pd.read_excel(filename, sheet_name = 'Teste')\n",
    "\n",
    "    novo_dataframe = train.append(test)\n",
    "\n",
    "    #novo_dataframe\n",
    "\n",
    "    aleatorio = novo_dataframe.sample(frac = 1)\n",
    "\n",
    "    from sklearn.model_selection import train_test_split\n",
    "\n",
    "    #Duas novas bases de dados \"train_novo\" e \"test_novo\"\n",
    "    train_novo, test_novo = train_test_split(aleatorio, test_size=0.6)\n",
    "\n",
    "    train_novo.reset_index(drop=True, inplace=True)\n",
    "    test_novo.reset_index(drop=True, inplace=True)\n",
    "\n",
    "    #=========\n",
    "\n",
    "    todas_palavras = []\n",
    "    palavras0 = []\n",
    "    palavras1 = []\n",
    "    palavras2 = []\n",
    "\n",
    "    w = 0\n",
    "    while w < len(train_novo):\n",
    "        linha = cleanup(str(train_novo['PrimeiroParag'][w]).lower())\n",
    "        linha_split = linha.split()\n",
    "        x = train_novo.iloc[w]['Target']\n",
    "        \n",
    "        for palavra in linha_split:\n",
    "            todas_palavras.append(palavra)\n",
    "            if x == 0:\n",
    "                palavras0.append(palavra)\n",
    "            if x == 1:\n",
    "                palavras1.append(palavra)\n",
    "            if x == 2:\n",
    "                palavras2.append(palavra)\n",
    "\n",
    "        w+=1\n",
    "\n",
    "    #=========\n",
    "    tabela_todas_palavras = pd.Series(todas_palavras)\n",
    "    tabela_todas_palavras_absoluta = tabela_todas_palavras.value_counts()\n",
    "    qnt_total = len(tabela_todas_palavras_absoluta)\n",
    "\n",
    "    tabela_palavras0 = pd.Series(palavras0)\n",
    "    tabela_palavras_absoluta0 = tabela_palavras0.value_counts()\n",
    "    qnt0 = len(palavras0)\n",
    "    P_0 = qnt0/qnt_total\n",
    "\n",
    "    tabela_palavras1 = pd.Series(palavras1)\n",
    "    tabela_palavras_absoluta1 = tabela_palavras1.value_counts()\n",
    "    qnt1 = len(palavras1)\n",
    "    P_1 = qnt1/qnt_total\n",
    "\n",
    "    tabela_palavras2 = pd.Series(palavras2)\n",
    "    tabela_palavras_absoluta2 = tabela_palavras2.value_counts()\n",
    "    qnt2 = len(palavras2)\n",
    "    P_2 = qnt2/qnt_total\n",
    "\n",
    "    #=========\n",
    "\n",
    "    lista_prob = []\n",
    "    lista_target = []\n",
    "\n",
    "    b = 0\n",
    "    while b < len(test_novo):\n",
    "        linha = cleanup(str(test_novo['PrimeiroParag'][b]).lower())\n",
    "        linha_split = linha.split()\n",
    "        x = test_novo.iloc[b]['Target']\n",
    "        \n",
    "        P_palavra_dado_0 = 1\n",
    "        P_palavra_dado_1 = 1\n",
    "        P_palavra_dado_2 = 1\n",
    "\n",
    "        P_0_dado_frase = 1\n",
    "        P_1_dado_frase = 1\n",
    "        P_2_dado_frase = 1\n",
    "\n",
    "\n",
    "        #Calcula a probabilidade da palavra estar em um target\n",
    "        for palavra in linha_split:\n",
    "            if palavra in tabela_palavras_absoluta0:\n",
    "                P_palavra_dado_0 *= (1 + tabela_palavras_absoluta0[palavra])/(qnt0 + qnt_total)\n",
    "            else:\n",
    "                P_palavra_dado_0 = 1/qnt0 + qnt_total\n",
    "            \n",
    "            if palavra in tabela_palavras_absoluta1:\n",
    "                P_palavra_dado_1 *= (1 + tabela_palavras_absoluta1[palavra])/(qnt1 + qnt_total)\n",
    "            else:\n",
    "                P_palavra_dado_1 = 1/qnt1 + qnt_total\n",
    "            \n",
    "            if palavra in tabela_palavras_absoluta2:\n",
    "                P_palavra_dado_2 *= (1 + tabela_palavras_absoluta2[palavra])/(qnt2 + qnt_total)\n",
    "            else:\n",
    "                P_palavra_dado_2 = 1/qnt2 + qnt_total\n",
    "\n",
    "            P_0_dado_palavra = P_palavra_dado_0 * P_0\n",
    "            P_1_dado_palavra = P_palavra_dado_1 * P_1\n",
    "            P_2_dado_palavra = P_palavra_dado_2 * P_2\n",
    "\n",
    "\n",
    "            #Calcula a probabilidade da frase inteira estar em um target\n",
    "            if P_0_dado_palavra >= P_1_dado_palavra and P_0_dado_palavra >= P_2_dado_palavra:\n",
    "                P_0_dado_frase *= P_0_dado_palavra\n",
    "\n",
    "            if P_1_dado_palavra >= P_0_dado_palavra and P_1_dado_palavra >= P_2_dado_palavra:\n",
    "                P_1_dado_frase *= P_1_dado_palavra\n",
    "\n",
    "            if P_2_dado_palavra >= P_1_dado_palavra and P_2_dado_palavra >= P_0_dado_palavra:\n",
    "                P_2_dado_frase *= P_2_dado_palavra\n",
    "\n",
    "\n",
    "\n",
    "        #Verifica a qual target a frase inteira pertence e add ifo nas listas\n",
    "        if P_0_dado_frase >= P_1_dado_frase and P_0_dado_frase >= P_2_dado_frase:\n",
    "            lista_target.append(0)\n",
    "            lista_prob.append(P_0_dado_frase)\n",
    "\n",
    "        elif P_2_dado_frase >= P_1_dado_frase and P_2_dado_frase >= P_0_dado_frase:\n",
    "            lista_target.append(2)\n",
    "            lista_prob.append(P_2_dado_frase)\n",
    "\n",
    "        elif P_1_dado_frase >= P_0_dado_frase and P_1_dado_frase >= P_2_dado_frase:\n",
    "            lista_target.append(1)\n",
    "            lista_prob.append(P_1_dado_frase)\n",
    "\n",
    "            \n",
    "        b+=1\n",
    "\n",
    "    #=========\n",
    "\n",
    "    matriz_confusao = confusion_matrix(test_novo['Target'],lista_target)\n",
    "\n",
    "    true0_predict0 = matriz_confusao[0][0] #Verdadeiro irrelevante\n",
    "    true0_predict1 = matriz_confusao[0][1]\n",
    "    true0_predict2 = matriz_confusao[0][2]\n",
    "\n",
    "    true1_predict0 = matriz_confusao[1][0]\n",
    "    true1_predict1 = matriz_confusao[1][1] #verdadeiro relevante\n",
    "    true1_predict2 = matriz_confusao[1][2]\n",
    "\n",
    "    true2_predict0 = matriz_confusao[2][0]\n",
    "    true2_predict1 = matriz_confusao[2][1]\n",
    "    true2_predict2 = matriz_confusao[2][2] #verdadeiro muito relevante\n",
    "\n",
    "    soma_total = (true0_predict0+true0_predict1+true0_predict2+true1_predict0+true1_predict1+true1_predict2+true2_predict0+true2_predict1+true2_predict2)\n",
    "\n",
    "    #print(true2_predict0)\n",
    "    #print(matriz_confusao)\n",
    "\n",
    "    #=========\n",
    "\n",
    "    group_counts_novo = [true0_predict0, true1_predict1, true2_predict2]\n",
    "\n",
    "    porcentagem_de_acertos = [(true0_predict0/450), (true1_predict1/450), (true2_predict2/450)]\n",
    "\n",
    "    porcentagem_irrelevantes.append(true0_predict0/450)\n",
    "    porcentagem_relevantes.append(true1_predict1/450)\n",
    "    porcentagem_m_relevantes.append(true2_predict2/450)\n",
    "\n",
    "    guarda_resultados.append(group_counts_novo)\n",
    "\n",
    "    contador += 1\n",
    "\n",
    "\n",
    "soma_lv_irrelevante = 0\n",
    "soma_lv_relevante = 0\n",
    "soma_lv_m_relevante = 0\n",
    "\n",
    "for lista_valor in guarda_resultados:\n",
    "    lv_irrelevante = lista_valor[0]\n",
    "    lv_relevante = lista_valor[1]\n",
    "    lv_m_irrelevante = lista_valor[2]\n",
    "    \n",
    "    soma_lv_irrelevante += lv_irrelevante\n",
    "    soma_lv_relevante += lv_relevante\n",
    "    soma_lv_m_relevante += lv_m_irrelevante\n",
    "\n",
    "porcentagem_lv_irrelevante = soma_lv_irrelevante/(450*(len(guarda_resultados)))\n",
    "porcentagem_lv_relevante = soma_lv_relevante/(450*(len(guarda_resultados)))\n",
    "porcentagem_lv_m_relevante = soma_lv_m_relevante/(450*(len(guarda_resultados)))\n",
    "\n",
    "lista_essas_porcentagems = ((porcentagem_lv_irrelevante*100), (porcentagem_lv_relevante*100), (porcentagem_lv_m_relevante*100))\n",
    "\n",
    "\n",
    "print(guarda_resultados)\n",
    "\n",
    "print(lista_essas_porcentagems)\n",
    "\n",
    "print(historico_acertos)"
   ]
  },
  {
   "cell_type": "code",
   "execution_count": 72,
   "metadata": {},
   "outputs": [
    {
     "data": {
      "image/png": "[encoded data removed]",
      "text/plain": [
       "<Figure size 576x1440 with 3 Axes>"
      ]
     },
     "metadata": {
      "needs_background": "light"
     },
     "output_type": "display_data"
    }
   ],
   "source": [
    "acertos_irrelevantes = pd.Series(porcentagem_irrelevantes)\n",
    "acertos_relevantes = pd.Series(porcentagem_relevantes)\n",
    "acertos_m_relevantes = pd.Series(porcentagem_m_relevantes)\n",
    "\n",
    "faixa1 = np.arange(0,0.6,0.04)\n",
    "faixa2 = np.arange(0.01,0.08,0.005)\n",
    "fig = plt.figure(figsize=(8, 20))\n",
    "\n",
    "plt.subplot(611)\n",
    "plt.hist(acertos_irrelevantes, bins=faixa1, color='darkcyan', edgecolor='white')\n",
    "plt.title('')\n",
    "plt.ylabel('Frequencia')\n",
    "plt.xlabel('Porcentagem acertos')\n",
    "\n",
    "plt.subplot(613)\n",
    "plt.hist(acertos_relevantes, bins=faixa2, color='darkcyan', edgecolor='white')\n",
    "plt.title('')\n",
    "plt.ylabel('Frequencia')\n",
    "plt.xlabel('Porcentagem acertos')\n",
    "\n",
    "plt.subplot(615)\n",
    "plt.hist(acertos_m_relevantes, bins=faixa2, color='darkcyan', edgecolor='white')\n",
    "plt.title('')\n",
    "plt.ylabel('Frequencia')\n",
    "plt.xlabel('Porcentagem acertos')\n",
    "\n",
    "\n",
    "plt.show()"
   ]
  },
  {
   "attachments": {},
   "cell_type": "markdown",
   "metadata": {},
   "source": [
    "___\n",
    "## Aperfeiçoamento:\n",
    "\n",
    "Trabalhos que conseguirem pelo menos conceito B vão evoluir em conceito dependendo da quantidade de itens avançados:\n",
    "\n",
    "* IMPLEMENTOU outras limpezas e transformações que não afetem a qualidade da informação contida nas notícias. Ex: stemming, lemmatization, stopwords\n",
    "* CONSIDEROU mais de duas caterogias na variável Target e INCREMENTOU a quantidade de notícias, mantendo pelo menos 250 notícias por caterogia (OBRIGATÓRIO PARA TRIOS, sem contar como item avançado)\n",
    "* Para Target com duas categorias: CRIOU pelo menos quatro categorias intermediárias de relevância baseadas na probabilidade: ex.: muito relevante, relevante, neutro, irrelevante, muito irrelevante\n",
    "* EXPLICOU porquê não pode usar o próprio classificador para gerar mais amostras de treinamento\n",
    "* PROPÔS diferentes cenários para Naïve Bayes fora do contexto do projeto (pelo menos dois cenários, exceto aqueles já apresentados em sala pelos professores: por exemplo, filtro de spam)\n",
    "* SUGERIU e EXPLICOU melhorias reais com indicações concretas de como implementar (indicar como fazer e indicar material de pesquisa)\n",
    "* FEZ o item Qualidade do Classificador a partir de novas separações das Notícias entre Treinamento e Teste descrito no enunciado do projeto (OBRIGATÓRIO para conceitos A ou A+)"
   ]
  },
  {
   "cell_type": "markdown",
   "metadata": {},
   "source": [
    "___\n",
    "## Referências"
   ]
  },
  {
   "cell_type": "markdown",
   "metadata": {},
   "source": [
    "[Naive Bayes and Text Classification](https://arxiv.org/pdf/1410.5329.pdf)  **Mais completo**\n",
    "\n",
    "[A practical explanation of a Naive Bayes Classifier](https://monkeylearn.com/blog/practical-explanation-naive-bayes-classifier/) **Mais simples**"
   ]
  },
  {
   "cell_type": "code",
   "execution_count": null,
   "metadata": {},
   "outputs": [],
   "source": []
  }
 ],
 "metadata": {
  "kernelspec": {
   "display_name": "Python 3.9.7 ('base')",
   "language": "python",
   "name": "python3"
  },
  "language_info": {
   "codemirror_mode": {
    "name": "ipython",
    "version": 3
   },
   "file_extension": ".py",
   "mimetype": "text/x-python",
   "name": "python",
   "nbconvert_exporter": "python",
   "pygments_lexer": "ipython3",
   "version": "3.9.7"
  },
  "vscode": {
   "interpreter": {
    "hash": "263930470851f494f0ed2879c35b57985588df20f9e529b86e97dd5eb9ddc466"
   }
  }
 },
 "nbformat": 4,
 "nbformat_minor": 4
}
